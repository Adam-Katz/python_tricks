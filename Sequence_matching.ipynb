{
 "cells": [
  {
   "cell_type": "markdown",
   "metadata": {},
   "source": [
    "### While teaching my 11 year old son about probability I asked him how many times would the sequence (0,1,2,...,9) appear in a random sequence of length 1,000,000? For those of you who know a little probability theory this is a simple problem...\n",
    "### This notebook demonstrates sequence matching using numpy. As a bonus, it also shows how to do a polynomial fit in numpy."
   ]
  },
  {
   "cell_type": "code",
   "execution_count": 1,
   "metadata": {},
   "outputs": [],
   "source": [
    "import numpy as np\n",
    "from collections import Counter\n",
    "import matplotlib.pyplot as plt\n",
    "%matplotlib inline"
   ]
  },
  {
   "cell_type": "markdown",
   "metadata": {},
   "source": [
    "## Generating an array of random digits and sanity check"
   ]
  },
  {
   "cell_type": "code",
   "execution_count": 2,
   "metadata": {
    "scrolled": true
   },
   "outputs": [
    {
     "data": {
      "image/png": "[encoded data removed]",
      "text/plain": [
       "<Figure size 432x288 with 1 Axes>"
      ]
     },
     "metadata": {
      "needs_background": "light"
     },
     "output_type": "display_data"
    }
   ],
   "source": [
    "seq_len = 1_000_000\n",
    "arr = np.random.randint(low=0, high=10, size=seq_len)\n",
    "counts = sorted(Counter(arr).items())\n",
    "number, count = zip(*counts)\n",
    "fig, ax = plt.subplots()\n",
    "ax.bar(number, count)\n",
    "ax.set_xticks(number)\n",
    "plt.ylabel('counts')\n",
    "plt.show()"
   ]
  },
  {
   "cell_type": "markdown",
   "metadata": {},
   "source": [
    "## The heart of the sequence matching is done by creating a 2D array of slices generated by sliding a window. The second part is comparing each slice with the desired sequence."
   ]
  },
  {
   "cell_type": "code",
   "execution_count": 3,
   "metadata": {},
   "outputs": [],
   "source": [
    "# adapted from: https://stackoverflow.com/questions/36522220/searching-a-sequence-in-a-numpy-array\n",
    "def search_sequence_numpy(arr,seq):\n",
    "\n",
    "    Na, Nseq = arr.size, seq.size\n",
    "    r_seq = np.arange(Nseq)\n",
    "    n_matches = sum((arr[np.arange(Na-Nseq+1)[:,None] + r_seq] == seq).all(1))\n",
    "    return n_matches"
   ]
  },
  {
   "cell_type": "markdown",
   "metadata": {},
   "source": [
    "### Checking matches of different lengths i.e. (0), (0,1), (0,1,2),...,(0,1,2,3,4,5,6,7,8,9) "
   ]
  },
  {
   "cell_type": "code",
   "execution_count": 4,
   "metadata": {},
   "outputs": [],
   "source": [
    "n_matches = []\n",
    "for n in range(1, 10):\n",
    "    seq = np.arange(n)\n",
    "    n_matches.append(search_sequence_numpy(arr, seq))\n",
    "    \n",
    "n_matches = [x for x in n_matches if x!=0]"
   ]
  },
  {
   "cell_type": "markdown",
   "metadata": {},
   "source": [
    "### The probability of getting a specific digit is:\n",
    "$p=0.1$\n",
    "### assuming the digits come from uniform i.i.d's then the probability of an exact squence of length $n$ is:\n",
    "$P(seq) = p^n = 0.1^n$\n",
    "### The total number of matches will follow the law:\n",
    "$matches(seq)=arrayLength*P(seq)=arrayLength*0.1^n$\n",
    "\n",
    "$n$ - length of the sequence"
   ]
  },
  {
   "cell_type": "code",
   "execution_count": 5,
   "metadata": {},
   "outputs": [
    {
     "data": {
      "image/png": "[encoded data removed]",
      "text/plain": [
       "<Figure size 432x288 with 1 Axes>"
      ]
     },
     "metadata": {
      "needs_background": "light"
     },
     "output_type": "display_data"
    }
   ],
   "source": [
    "plt.bar(range(len(n_matches)), n_matches)\n",
    "plt.show()"
   ]
  },
  {
   "cell_type": "markdown",
   "metadata": {},
   "source": [
    "### This might look better on a logarithmic scale..."
   ]
  },
  {
   "cell_type": "code",
   "execution_count": 6,
   "metadata": {},
   "outputs": [
    {
     "data": {
      "image/png": "[encoded data removed]",
      "text/plain": [
       "<Figure size 432x288 with 1 Axes>"
      ]
     },
     "metadata": {
      "needs_background": "light"
     },
     "output_type": "display_data"
    }
   ],
   "source": [
    "log_n_matches = np.log(n_matches)\n",
    "xs = range(1, len(n_matches) + 1)\n",
    "model = np.polyfit(xs, log_n_matches, 1)\n",
    "predict = np.poly1d(model)\n",
    "plt.scatter(xs, log_n_matches)\n",
    "plt.plot(xs, predict(xs), c='r')\n",
    "plt.show()"
   ]
  },
  {
   "cell_type": "markdown",
   "metadata": {},
   "source": [
    "### Bam! great fit but wait, let's examine the slope.\n",
    "As mentioned above, the equation of the number of matches is:\n",
    "\n",
    "$$matches(seq)=arrayLength*P(seq)=arrayLength*0.1^n\\\\n=sequenceLength$$\n",
    "\n",
    "Taking a $log$ from both sides yields:\n",
    "\n",
    "$$\\begin{align}\n",
    "log(matches(seq))&=log(arrayLength)+log(P(seq)\\\\&=log(0.1)*n+log(arrayLength)\n",
    "\\end{align}$$"
   ]
  },
  {
   "cell_type": "code",
   "execution_count": 7,
   "metadata": {},
   "outputs": [
    {
     "name": "stdout",
     "output_type": "stream",
     "text": [
      "Using only the first all squences, exp(slope) = 0.09935 (should be 0.1)\n",
      "Using only the first all squences, exp(intercept) = 1046096 (should be 1000000)\n"
     ]
    }
   ],
   "source": [
    "print(f'Using only the first all squences, exp(slope) = {np.exp(model[0]):.5f} (should be 0.1)')\n",
    "print(f'Using only the first all squences, exp(intercept) = {int(np.exp(model[1]))} (should be {seq_len})')"
   ]
  },
  {
   "cell_type": "markdown",
   "metadata": {},
   "source": [
    "## OMG! it worked!\n",
    "The slope and intercept we got are not too far from the theoretical values.\n",
    "The error comes from long sequences. Because their probability is very (very) low their number of matches will have high variance i.e. the difference between 1 and 2 matches out of 10,000,000 is large. The polynomial fit treats all points equally therefore an error in the long sequences will have a strong effect over the fit. I suppose this can be mitigated using some sort of weighted regression."
   ]
  },
  {
   "cell_type": "markdown",
   "metadata": {},
   "source": [
    "### Using only the first 3 sequences yields a better linear fit"
   ]
  },
  {
   "cell_type": "code",
   "execution_count": 8,
   "metadata": {},
   "outputs": [
    {
     "name": "stdout",
     "output_type": "stream",
     "text": [
      "Using only the first 3 squences, exp(slope) = 0.10197 (should be 0.1)\n",
      "Using only the first 3 squences, exp(intercept) = 980287 (should be 1000000)\n"
     ]
    }
   ],
   "source": [
    "model = np.polyfit(xs[:3], log_n_matches[:3], 1)\n",
    "print(f'Using only the first 3 squences, exp(slope) = {np.exp(model[0]):.5f} (should be 0.1)')\n",
    "print(f'Using only the first 3 squences, exp(intercept) = {int(np.exp(model[1]))} (should be {seq_len})')"
   ]
  }
 ],
 "metadata": {
  "kernelspec": {
   "display_name": "Python 3",
   "language": "python",
   "name": "python3"
  },
  "language_info": {
   "codemirror_mode": {
    "name": "ipython",
    "version": 3
   },
   "file_extension": ".py",
   "mimetype": "text/x-python",
   "name": "python",
   "nbconvert_exporter": "python",
   "pygments_lexer": "ipython3",
   "version": "3.7.7"
  }
 },
 "nbformat": 4,
 "nbformat_minor": 4
}
